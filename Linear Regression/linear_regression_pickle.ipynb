{
 "cells": [
  {
   "cell_type": "markdown",
   "metadata": {},
   "source": [
    "# Method Pickle to use Machine Learnng models"
   ]
  },
  {
   "cell_type": "code",
   "execution_count": null,
   "metadata": {},
   "outputs": [],
   "source": [
    "import pickle\n",
    "\n",
    "# rb é o método\n",
    "modelo = open('beer_consume_model','rb')\n",
    "lm_new = pickle.load(modelo)\n",
    "modelo.close()\n",
    "\n",
    "Max_Temp = 30.5\n",
    "Precipitation = 12.2\n",
    "Weekend = 0\n",
    "input = [[Max_Temp,Precipitation,Weekend]]\n",
    "\n",
    "print(f'A quantidade de litros prevista é {lm_new.predict(input)[0].round(2)} litros')"
   ]
  },
  {
   "cell_type": "code",
   "execution_count": null,
   "metadata": {},
   "outputs": [],
   "source": [
    "from ipywidgets import widgets, HBox, VBox\n",
    "from IPython.display import display\n",
    "\n",
    "# Criando os controles do formulário\n",
    "\n",
    "Max_Temp = widgets.Text(description = 'Max_Temp')\n",
    "Precipitation = widgets.Text(description = 'Precipitation')\n",
    "Weekend = widgets.Text(description = 'Weekend')\n",
    "\n",
    "botao = widgets.Button(description = 'Simular')\n",
    "\n",
    "# Posicionando os controles\n",
    "\n",
    "# Compos da Esquerda\n",
    "left = VBox([Max_Temp,Precipitation])\n",
    "# Campos da Direita\n",
    "rights = VBox([Weekend])\n",
    "inputs = HBox([left,rights])\n",
    "\n",
    "# Função de Simulação\n",
    "\n",
    "def simulador(sender):\n",
    "    entrada = [[\n",
    "                    float(Max_Temp.value if Max_Temp.value else 0),\n",
    "                    float(Precipitation.value if Precipitation.value else 0),\n",
    "                    float(Weekend.value if Weekend.value else 0)\n",
    "              ]]\n",
    "    \n",
    "    print(f'{lm_new.predict(entrada)[0].round(2)}')\n",
    "    \n",
    "botao.on_click(simulador)"
   ]
  },
  {
   "cell_type": "code",
   "execution_count": null,
   "metadata": {},
   "outputs": [],
   "source": [
    "display(inputs, botao)"
   ]
  }
 ],
 "metadata": {
  "kernelspec": {
   "display_name": "Python 3",
   "language": "python",
   "name": "python3"
  },
  "language_info": {
   "codemirror_mode": {
    "name": "ipython",
    "version": 3
   },
   "file_extension": ".py",
   "mimetype": "text/x-python",
   "name": "python",
   "nbconvert_exporter": "python",
   "pygments_lexer": "ipython3",
   "version": "3.10.4"
  },
  "orig_nbformat": 4,
  "vscode": {
   "interpreter": {
    "hash": "413350f7d0809f61a31878bd37442febae74ebb0eae6dd71f86416db25f7514a"
   }
  }
 },
 "nbformat": 4,
 "nbformat_minor": 2
}
